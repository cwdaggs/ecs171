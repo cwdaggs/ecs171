{
 "cells": [
  {
   "cell_type": "code",
   "execution_count": 5,
   "id": "92e81227",
   "metadata": {},
   "outputs": [
    {
     "name": "stdout",
     "output_type": "stream",
     "text": [
      "Coefficients: \n",
      " [-1.17735289e-01  4.40174969e-02 -5.76814314e-03  2.39341594e+00\n",
      " -1.55894211e+01  3.76896770e+00 -7.03517828e-03 -1.43495641e+00\n",
      "  2.40081086e-01 -1.12972810e-02 -9.85546732e-01  8.44443453e-03\n",
      " -4.99116797e-01]\n",
      "\n",
      "Mean squared error: 29.78\n",
      "\n",
      "Coefficient of determination: 0.64\n",
      "\n",
      "Cross Validation: \n",
      "[ 0.6534446   0.59631685  0.67865382  0.61193393  0.51940514 -0.30577687\n",
      "  0.4001835 ]\n",
      "\n",
      "Accuracy: 0.451 (0.321)\n",
      "Mean squared error: 0.538\n"
     ]
    }
   ],
   "source": [
    "import pandas as pd\n",
    "import numpy as np\n",
    "import matplotlib.pyplot as plt\n",
    "from sklearn import datasets\n",
    "from sklearn.model_selection import cross_val_score\n",
    "from sklearn.linear_model import LinearRegression\n",
    "from sklearn.metrics import mean_squared_error, r2_score\n",
    "from sklearn.model_selection import train_test_split\n",
    "\n",
    "boston= datasets.load_boston()\n",
    "X = boston.data\n",
    "y = boston.target\n",
    "X_train, X_test, y_train, y_test = train_test_split(X, y, random_state = 0)\n",
    "\n",
    "reg = LinearRegression()\n",
    "'''LinearRegression will take in its fit method arrays X, y and will store - \n",
    "   the coefficients w of the linear model in its coef_ member:'''\n",
    "regmodel= reg.fit(X_train, y_train)\n",
    "# The coefficients\n",
    "print('Coefficients: \\n', regmodel.coef_)\n",
    "reg_predictions=reg.predict(X_test)\n",
    "\n",
    "# The mean squared error\n",
    "print('\\nMean squared error: %.2f' % mean_squared_error(y_test, reg_predictions))\n",
    "# The coefficient of determination: 1 is perfect prediction\n",
    "print('\\nCoefficient of determination: %.2f' % r2_score(y_test, reg_predictions))\n",
    "\n",
    "print('\\nCross Validation: ')\n",
    "# Array of scores of the estimator for each run of the cross validation.\n",
    "# cv: Determines the cross-validation splitting strategy\n",
    "scores = cross_val_score(LinearRegression(), X, y, cv=7)\n",
    "print(scores)\n",
    "\n",
    "# report performance\n",
    "print('\\nAccuracy: %.3f (%.3f)' % (scores.mean(), scores.std()))\n",
    "print('Mean squared error: %.3f' % (np.mean(np.abs(scores))))\n",
    "\n"
   ]
  },
  {
   "cell_type": "code",
   "execution_count": null,
   "id": "7c01c07b",
   "metadata": {},
   "outputs": [],
   "source": []
  }
 ],
 "metadata": {
  "kernelspec": {
   "display_name": "Python 3",
   "language": "python",
   "name": "python3"
  },
  "language_info": {
   "codemirror_mode": {
    "name": "ipython",
    "version": 3
   },
   "file_extension": ".py",
   "mimetype": "text/x-python",
   "name": "python",
   "nbconvert_exporter": "python",
   "pygments_lexer": "ipython3",
   "version": "3.8.8"
  }
 },
 "nbformat": 4,
 "nbformat_minor": 5
}
