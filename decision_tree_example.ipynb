{
 "cells": [
  {
   "cell_type": "code",
   "execution_count": 2,
   "metadata": {},
   "outputs": [
    {
     "name": "stdout",
     "output_type": "stream",
     "text": [
      "[[13  0  0]\n",
      " [ 0 15  1]\n",
      " [ 0  0  9]]\n"
     ]
    },
    {
     "data": {
      "image/png": "[encoded data removed]",
      "text/plain": [
       "<Figure size 432x288 with 2 Axes>"
      ]
     },
     "metadata": {
      "needs_background": "light"
     },
     "output_type": "display_data"
    },
    {
     "name": "stdout",
     "output_type": "stream",
     "text": [
      "Precision: 0.974\n",
      "Recall: 0.974\n"
     ]
    },
    {
     "data": {
      "text/plain": [
       "'Precision: Appropriate when minimizing false positives is the focus.\\nRecall: Appropriate when minimizing false negatives is the focus. for instance in malware detection recall is very important.\\nLike precision and recall, a poor F-Measure score is 0.0 and a best or perfect F-Measure score is 1.0\\n'"
      ]
     },
     "execution_count": 2,
     "metadata": {},
     "output_type": "execute_result"
    }
   ],
   "source": [
    "#Classification Problem Example\n",
    "\n",
    "# importing necessary libraries\n",
    "import numpy as np\n",
    "import pandas as pd\n",
    "from sklearn.metrics import confusion_matrix\n",
    "from sklearn.model_selection import train_test_split\n",
    "from sklearn import datasets\n",
    "from sklearn.metrics import plot_confusion_matrix\n",
    "import matplotlib.pyplot as plt\n",
    "from sklearn.metrics import precision_score\n",
    "from sklearn.metrics import recall_score\n",
    "from sklearn import preprocessing\n",
    "\n",
    "# loading the iris dataset using sklearn (sklearn.utils.Bunch object)\n",
    "iris = datasets.load_iris()\n",
    "\n",
    "# X represents features (or independent variables), y represents label(or depedent variable)\n",
    "X = iris.data\n",
    "y = iris.target\n",
    "class_names = iris.target_names\n",
    "\n",
    "#X = preprocessing.normalize(X)\n",
    "  \n",
    "# Now lets split X (features), y (label) into train and test data \n",
    "X_train, X_test, y_train, y_test = train_test_split(X, y, random_state = 0)\n",
    "# train_test_split (from sklearn) Splits arrays or matrices into random train and test subsets\n",
    "# X, y: numpy.ndarray is a multidimensional, homogeneous array of fixed-size items.\n",
    "# random_state controls the shuffling applied to the data before applying the split. 0 does normal random of all data.\n",
    "# The default split size in sklearn. model_selection. train_test_split are 75% training and 25% testing data split.\n",
    "\n",
    "# Using the training set, let's train a DescisionTreeClassifier\n",
    "from sklearn.tree import DecisionTreeClassifier\n",
    "#dtree_model = DecisionTreeClassifier(max_depth = 2).fit(X_train, y_train)\n",
    "dtree_model = DecisionTreeClassifier().fit(X_train, y_train)\n",
    "# max_depth is the max depth of the tree. If None, then nodes are expanded until all leaves are pure or until all leaves contain less than min_samples_split samples.\n",
    "\n",
    "# Using the test set, we test the trained model by calling the predict function\n",
    "dtree_predictions = dtree_model.predict(X_test)\n",
    "  \n",
    "# We can now evaluate the performance of the trained model via creating a confusion matrix\n",
    "# confusion matrix describes the performance of a classification model by comparing the predicted labels with actual labels in the test set.\n",
    "cm = confusion_matrix(y_test, dtree_predictions)\n",
    "print(cm)\n",
    "\n",
    "disp = plot_confusion_matrix(dtree_model, X_test, y_test,display_labels=class_names, cmap=plt.cm.Blues)\n",
    "plt.show()\n",
    "\n",
    "precision = precision_score(y_test, dtree_predictions, labels=[0,1,2], average='micro') \n",
    "print('Precision: %.3f' % precision)\n",
    "'''\n",
    "In an imbalanced classification problem with more than two classes, precision is calculated as the sum of true positives across all classes divided by the sum of true positives and false positives across all classes.\n",
    "Precision = Sum c in C TruePositives_c / Sum c in C (TruePositives_c + FalsePositives_c)\n",
    "'''\n",
    "\n",
    "#Recall is a metric that quantifies the number of correct positive predictions made out of all positive predictions that could have been made.\n",
    "# Recall = Sum c in C TruePositives_c / Sum c in C (TruePositives_c + FalseNegatives_c)\n",
    "recall= recall_score(y_test, dtree_predictions,labels=[0,1,2], average='micro')\n",
    "print('Recall: %.3f' % recall)\n",
    "\n",
    "\n",
    "'''Precision: Appropriate when minimizing false positives is the focus.\n",
    "Recall: Appropriate when minimizing false negatives is the focus. for instance in malware detection recall is very important.\n",
    "Like precision and recall, a poor F-Measure score is 0.0 and a best or perfect F-Measure score is 1.0\n",
    "'''\n",
    "\n"
   ]
  },
  {
   "cell_type": "code",
   "execution_count": null,
   "metadata": {},
   "outputs": [],
   "source": []
  }
 ],
 "metadata": {
  "kernelspec": {
   "display_name": "Python 3",
   "language": "python",
   "name": "python3"
  },
  "language_info": {
   "codemirror_mode": {
    "name": "ipython",
    "version": 3
   },
   "file_extension": ".py",
   "mimetype": "text/x-python",
   "name": "python",
   "nbconvert_exporter": "python",
   "pygments_lexer": "ipython3",
   "version": "3.8.5"
  }
 },
 "nbformat": 4,
 "nbformat_minor": 5
}
