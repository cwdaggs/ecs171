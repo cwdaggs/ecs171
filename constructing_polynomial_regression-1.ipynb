{
 "cells": [
  {
   "cell_type": "markdown",
   "metadata": {},
   "source": [
    "Constructing a Polynomial Regression: An Example"
   ]
  },
  {
   "cell_type": "code",
   "execution_count": 19,
   "metadata": {},
   "outputs": [
    {
     "name": "stdout",
     "output_type": "stream",
     "text": [
      "Model weights: \n",
      "[[11.4160685]]\n"
     ]
    },
    {
     "data": {
      "image/png": "[encoded data removed]",
      "text/plain": [
       "<Figure size 432x288 with 1 Axes>"
      ]
     },
     "metadata": {
      "needs_background": "light"
     },
     "output_type": "display_data"
    }
   ],
   "source": [
    "#Linear Regression \n",
    "\n",
    "import numpy as np\n",
    "import matplotlib.pyplot as plt\n",
    "from sklearn.linear_model import LinearRegression\n",
    "\n",
    "#Building a Dummy Dataset:\n",
    "np.random.seed(0)\n",
    "x = 2 - 3 * np.random.normal(0, 1, 100)\n",
    "y = x - 2 * (x ** 2) + 0.5 * (x ** 3) + np.random.normal(-3, 3, 100)\n",
    "\n",
    "# transforming the data to include another axis\n",
    "x = x[:, np.newaxis]\n",
    "y = y[:, np.newaxis]\n",
    "\n",
    "#spliting the data [80:20]\n",
    "x_train = x[:-20]\n",
    "y_train = y[:-20]\n",
    "\n",
    "x_test = x[-20:]\n",
    "y_test = y[-20:]\n",
    "\n",
    "model = LinearRegression()\n",
    "model.fit(x_train, y_train)\n",
    "print(\"Model weights: \")\n",
    "print(model.coef_)\n",
    "\n",
    "#here, we call predict on the training set because we want to see the fit of the model on the training set. \n",
    "y_train_pred = model.predict(x_train)\n",
    "y_test_pred = model.predict(x_test)\n",
    "\n",
    "plt.scatter(x_train, y_train, s=10)\n",
    "plt.plot(x_train, y_train_pred, color='r')\n",
    "plt.show()\n"
   ]
  },
  {
   "cell_type": "code",
   "execution_count": 23,
   "metadata": {},
   "outputs": [
    {
     "name": "stdout",
     "output_type": "stream",
     "text": [
      "Original Features: [x]\n",
      "[-3.29215704]\n",
      "Polynomial Features: [1,x,x**2]\n",
      "[ 1.         -3.29215704 10.83829796]\n",
      "Model weights: \n",
      "[[0.         7.22599268 1.0992131 ]]\n",
      "\n",
      "Training RMSE: 24.395169585394573\n",
      "Training R2: 0.696595238721916\n",
      "\n",
      "Test RMSE: 18.958147188630619\n",
      "Test R2: 0.312829511125536\n"
     ]
    },
    {
     "data": {
      "image/png": "[encoded data removed]",
      "text/plain": [
       "<Figure size 432x288 with 1 Axes>"
      ]
     },
     "metadata": {
      "needs_background": "light"
     },
     "output_type": "display_data"
    }
   ],
   "source": [
    "#Constructing a 2nd order Polynomail Regression\n",
    "import operator\n",
    "\n",
    "import numpy as np\n",
    "import matplotlib.pyplot as plt\n",
    "\n",
    "from sklearn.linear_model import LinearRegression\n",
    "from sklearn.metrics import mean_squared_error, r2_score\n",
    "from sklearn.preprocessing import PolynomialFeatures\n",
    "\n",
    "#Using the same Dummy Dataset\n",
    "np.random.seed(0)\n",
    "x = 2 - 3 * np.random.normal(0, 1, 100)\n",
    "y = x - 2 * (x ** 2) + 0.5 * (x ** 3) + np.random.normal(-3, 3, 100)\n",
    "\n",
    "# transforming the data to include another axis\n",
    "x = x[:, np.newaxis]\n",
    "y = y[:, np.newaxis]\n",
    "print('Original Features: [x]')\n",
    "print(x[0])\n",
    "\n",
    "#  Generate a new feature matrix consisting of all polynomial combinations of the \n",
    "## features with degree less than or equal to the specified degree. For example, \n",
    "## if an input sample is two dimensional and of the form [a, b], \n",
    "## the degree-2 polynomial features are [1, a, b, a^2, ab, b^2].\n",
    "\n",
    "polynomial_features= PolynomialFeatures(degree=2)\n",
    "x_poly = polynomial_features.fit_transform(x)\n",
    "print('Polynomial Features: [1,x,x**2]')\n",
    "print(x_poly[0])\n",
    "\n",
    "x_poly_train = x_poly[:-20]\n",
    "y_train = y[:-20]\n",
    "\n",
    "x_poly_test = x_poly[-20:]\n",
    "y_test = y[-20:]\n",
    "\n",
    "model = LinearRegression()\n",
    "model.fit(x_poly_train, y_train)\n",
    "y_train_pred = model.predict(x_poly_train)\n",
    "y_test_pred = model.predict(x_poly_test)\n",
    "\n",
    "\n",
    "print(\"Model weights: \")\n",
    "print(model.coef_)\n",
    "\n",
    "rmse = np.sqrt(mean_squared_error(y_train,y_train_pred))\n",
    "r2 = r2_score(y_train,y_train_pred)\n",
    "print('\\nTraining RMSE: %8.15f' % rmse)\n",
    "print('Training R2: %8.15f' % r2)\n",
    "\n",
    "# Reporting for the test set:\n",
    "rmse_test = np.sqrt(mean_squared_error(y_test,y_test_pred))\n",
    "r2_test = r2_score(y_test,y_test_pred)\n",
    "print('\\nTest RMSE: %8.15f' % rmse_test)\n",
    "print('Test R2: %8.15f' % r2_test)\n",
    "\n",
    "plt.scatter(x, y, s=10)\n",
    "# sort the values of x before line plot\n",
    "sort_axis = operator.itemgetter(0)\n",
    "sorted_zip = sorted(zip(x,y_train_pred), key=sort_axis)\n",
    "x_poly_train, y_train_pred = zip(*sorted_zip)\n",
    "plt.plot(x_poly_train, y_train_pred, color='m')\n",
    "plt.show()\n"
   ]
  },
  {
   "cell_type": "code",
   "execution_count": 21,
   "metadata": {},
   "outputs": [
    {
     "name": "stdout",
     "output_type": "stream",
     "text": [
      "Original Features: [x]\n",
      "[-3.29215704]\n",
      "Polynomial Features: [1,x,x**2,x**3]\n",
      "[  1.          -3.29215704  10.83829796 -35.68137892]\n",
      "Model weights: \n",
      "[[ 0.          0.90216542 -2.01095101  0.50074037]]\n",
      "\n",
      "Training RMSE: 2.991353849540036\n",
      "Training R2: 0.995438052457929\n",
      "\n",
      "Test RMSE: 3.431740027623186\n",
      "Test R2: 0.977483469140174\n"
     ]
    },
    {
     "data": {
      "image/png": "[encoded data removed]",
      "text/plain": [
       "<Figure size 432x288 with 1 Axes>"
      ]
     },
     "metadata": {
      "needs_background": "light"
     },
     "output_type": "display_data"
    }
   ],
   "source": [
    "#Polynomail Regression\n",
    "import operator\n",
    "\n",
    "import numpy as np\n",
    "import matplotlib.pyplot as plt\n",
    "\n",
    "from sklearn.linear_model import LinearRegression\n",
    "from sklearn.metrics import mean_squared_error, r2_score\n",
    "from sklearn.preprocessing import PolynomialFeatures\n",
    "\n",
    "#Using the same Dummy Dataset\n",
    "np.random.seed(0)\n",
    "x = 2 - 3 * np.random.normal(0, 1, 100)\n",
    "y = x - 2 * (x ** 2) + 0.5 * (x ** 3) + np.random.normal(-3, 3, 100)\n",
    "\n",
    "# transforming the data to include another axis\n",
    "x = x[:, np.newaxis]\n",
    "y = y[:, np.newaxis]\n",
    "print('Original Features: [x]')\n",
    "print(x[0])\n",
    "\n",
    "#  Generate a new feature matrix consisting of all polynomial combinations of the \n",
    "## features with degree less than or equal to the specified degree. \n",
    "polynomial_features= PolynomialFeatures(degree=3)\n",
    "x_poly = polynomial_features.fit_transform(x)\n",
    "print('Polynomial Features: [1,x,x**2,x**3]')\n",
    "print(x_poly[0])\n",
    "\n",
    "x_poly_train = x_poly[:-20]\n",
    "y_train = y[:-20]\n",
    "\n",
    "x_poly_test = x_poly[-20:]\n",
    "y_test = y[-20:]\n",
    "\n",
    "model = LinearRegression()\n",
    "model.fit(x_poly_train, y_train)\n",
    "y_train_pred = model.predict(x_poly_train)\n",
    "y_test_pred = model.predict(x_poly_test)\n",
    "\n",
    "print(\"Model weights: \")\n",
    "print(model.coef_)\n",
    "\n",
    "rmse = np.sqrt(mean_squared_error(y_train,y_train_pred))\n",
    "r2 = r2_score(y_train,y_train_pred)\n",
    "print('\\nTraining RMSE: %8.15f' % rmse)\n",
    "print('Training R2: %8.15f' % r2)\n",
    "\n",
    "# Reporting for the test set:\n",
    "rmse_test = np.sqrt(mean_squared_error(y_test,y_test_pred))\n",
    "r2_test = r2_score(y_test,y_test_pred)\n",
    "print('\\nTest RMSE: %8.15f' % rmse_test)\n",
    "print('Test R2: %8.15f' % r2_test)\n",
    "\n",
    "plt.scatter(x, y, s=10)\n",
    "# sort the values of x before line plot\n",
    "sort_axis = operator.itemgetter(0)\n",
    "sorted_zip = sorted(zip(x,y_train_pred), key=sort_axis)\n",
    "x_poly_train, y_train_pred = zip(*sorted_zip)\n",
    "plt.plot(x_poly_train, y_train_pred, color='m')\n",
    "plt.show()"
   ]
  },
  {
   "cell_type": "code",
   "execution_count": 22,
   "metadata": {},
   "outputs": [
    {
     "name": "stdout",
     "output_type": "stream",
     "text": [
      "Model weights: \n",
      "[[ 0.00000000e+00  8.56310783e-01 -5.57878946e-01  7.95828450e-01\n",
      "  -4.69280721e-01 -8.52552969e-02  8.66158308e-02  3.46065471e-03\n",
      "  -7.74088139e-03  5.67338041e-04  2.84523917e-04 -4.79045336e-05\n",
      "  -1.55885189e-06  9.34765487e-07 -8.00455784e-08  2.25955305e-09]]\n",
      "\n",
      "Training RMSE: 2.823490243925290\n",
      "Training R2: 0.995935685639745\n",
      "\n",
      "Test RMSE: 3.093046329405810\n",
      "Test R2: 0.981708658045789\n"
     ]
    },
    {
     "data": {
      "image/png": "[encoded data removed]",
      "text/plain": [
       "<Figure size 432x288 with 1 Axes>"
      ]
     },
     "metadata": {
      "needs_background": "light"
     },
     "output_type": "display_data"
    }
   ],
   "source": [
    "#Polynomail Regression\n",
    "import operator\n",
    "\n",
    "import numpy as np\n",
    "import matplotlib.pyplot as plt\n",
    "\n",
    "from sklearn.linear_model import LinearRegression\n",
    "from sklearn.metrics import mean_squared_error, r2_score\n",
    "from sklearn.preprocessing import PolynomialFeatures\n",
    "\n",
    "#Using the same Dummy Dataset\n",
    "np.random.seed(0)\n",
    "x = 2 - 3 * np.random.normal(0, 1, 100)\n",
    "y = x - 2 * (x ** 2) + 0.5 * (x ** 3) + np.random.normal(-3, 3, 100)\n",
    "\n",
    "# transforming the data to include another axis\n",
    "x = x[:, np.newaxis]\n",
    "y = y[:, np.newaxis]\n",
    "\n",
    "\n",
    "#  Generate a new feature matrix consisting of all polynomial combinations of the \n",
    "## features with degree less than or equal to the specified degree. \n",
    "polynomial_features= PolynomialFeatures(degree=15)\n",
    "x_poly = polynomial_features.fit_transform(x)\n",
    "\n",
    "x_poly_train = x_poly[:-20]\n",
    "y_train = y[:-20]\n",
    "\n",
    "x_poly_test = x_poly[-20:]\n",
    "y_test = y[-20:]\n",
    "\n",
    "model = LinearRegression()\n",
    "model.fit(x_poly_train, y_train)\n",
    "y_train_pred = model.predict(x_poly_train)\n",
    "y_test_pred = model.predict(x_poly_test)\n",
    "\n",
    "print(\"Model weights: \")\n",
    "print(model.coef_)\n",
    "\n",
    "rmse = np.sqrt(mean_squared_error(y_train,y_train_pred))\n",
    "r2 = r2_score(y_train,y_train_pred)\n",
    "print('\\nTraining RMSE: %8.15f' % rmse)\n",
    "print('Training R2: %8.15f' % r2)\n",
    "\n",
    "# Reporting for the test set:\n",
    "rmse_test = np.sqrt(mean_squared_error(y_test,y_test_pred))\n",
    "r2_test = r2_score(y_test,y_test_pred)\n",
    "print('\\nTest RMSE: %8.15f' % rmse_test)\n",
    "print('Test R2: %8.15f' % r2_test)\n",
    "\n",
    "plt.scatter(x, y, s=10)\n",
    "# sort the values of x before line plot\n",
    "sort_axis = operator.itemgetter(0)\n",
    "sorted_zip = sorted(zip(x,y_train_pred), key=sort_axis)\n",
    "x_poly_train, y_train_pred = zip(*sorted_zip)\n",
    "plt.plot(x_poly_train, y_train_pred, color='m')\n",
    "plt.show()\n",
    "\n",
    "\n"
   ]
  }
 ],
 "metadata": {
  "kernelspec": {
   "display_name": "Python 3",
   "language": "python",
   "name": "python3"
  },
  "language_info": {
   "codemirror_mode": {
    "name": "ipython",
    "version": 3
   },
   "file_extension": ".py",
   "mimetype": "text/x-python",
   "name": "python",
   "nbconvert_exporter": "python",
   "pygments_lexer": "ipython3",
   "version": "3.8.5"
  }
 },
 "nbformat": 4,
 "nbformat_minor": 5
}
