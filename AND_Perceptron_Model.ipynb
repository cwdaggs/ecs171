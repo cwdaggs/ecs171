{
 "cells": [
  {
   "cell_type": "code",
   "execution_count": 10,
   "id": "7558ca2d",
   "metadata": {},
   "outputs": [
    {
     "name": "stdout",
     "output_type": "stream",
     "text": [
      "For input \n",
      "[1, 0, 0]\n",
      "Threshold:  0.5\n",
      "the sum is -3 the output is 0.0\n",
      "For input \n",
      "[1, 0, 1]\n",
      "Threshold:  0.5\n",
      "the sum is -1 the output is 0.0\n",
      "For input \n",
      "[1, 1, 0]\n",
      "Threshold:  0.5\n",
      "the sum is -1 the output is 0.0\n",
      "For input \n",
      "[1, 1, 1]\n",
      "Threshold:  0.5\n",
      "the sum is 1 the output is 1.0\n"
     ]
    }
   ],
   "source": [
    "# Implementing AND Gate\n",
    "\n",
    "class AND_Perceptron_model: \n",
    "    \n",
    "    def __init__(self, weights, threshold):                       \n",
    "        self.weights=weights \n",
    "        self.threshold = threshold\n",
    "        \n",
    "    def combination(self, x, w):   \n",
    "        return sum(x_i*w_i for x_i, w_i in zip(x, w))\n",
    "    \n",
    "\n",
    "    def stepactivation(self, sumproduct):\n",
    "        print(\"Threshold: \" , self.threshold)\n",
    "        return 1.0 if sumproduct >= self.threshold else 0.0\n",
    "\n",
    "    \n",
    "    def fit(self, train):\n",
    "        for row in train:\n",
    "            layer_1 = row[:-1] # all attributes except the last column (y)\n",
    "            print(\"For input \")\n",
    "            print(layer_1)\n",
    "            \n",
    "            sumproduct= self.combination(layer_1, self.weights)\n",
    "            layer_2= self.stepactivation(sumproduct )\n",
    "            print(\"the sum is\" ,sumproduct, \"the output is\", layer_2)\n",
    "            \n",
    "initial_w=[-3,2,2]\n",
    "dataset = [[1,0,0,0],[1,0,1,0],[1,1,0,0],[1,1,1,1]]\n",
    "\n",
    "model = AND_Perceptron_model (initial_w,0.5)\n",
    "model.fit(dataset)\n",
    "\n",
    "#//TODO: Can you implement this for NOR Gate? "
   ]
  },
  {
   "cell_type": "code",
   "execution_count": 15,
   "id": "9e900bce",
   "metadata": {},
   "outputs": [
    {
     "data": {
      "text/html": [
       "<div>\n",
       "<style scoped>\n",
       "    .dataframe tbody tr th:only-of-type {\n",
       "        vertical-align: middle;\n",
       "    }\n",
       "\n",
       "    .dataframe tbody tr th {\n",
       "        vertical-align: top;\n",
       "    }\n",
       "\n",
       "    .dataframe thead th {\n",
       "        text-align: right;\n",
       "    }\n",
       "</style>\n",
       "<table border=\"1\" class=\"dataframe\">\n",
       "  <thead>\n",
       "    <tr style=\"text-align: right;\">\n",
       "      <th></th>\n",
       "      <th>a</th>\n",
       "      <th>b</th>\n",
       "      <th>c</th>\n",
       "    </tr>\n",
       "  </thead>\n",
       "  <tbody>\n",
       "    <tr>\n",
       "      <th>0</th>\n",
       "      <td>1</td>\n",
       "      <td>0</td>\n",
       "      <td>0</td>\n",
       "    </tr>\n",
       "    <tr>\n",
       "      <th>1</th>\n",
       "      <td>0</td>\n",
       "      <td>1</td>\n",
       "      <td>0</td>\n",
       "    </tr>\n",
       "    <tr>\n",
       "      <th>2</th>\n",
       "      <td>0</td>\n",
       "      <td>0</td>\n",
       "      <td>1</td>\n",
       "    </tr>\n",
       "    <tr>\n",
       "      <th>3</th>\n",
       "      <td>1</td>\n",
       "      <td>0</td>\n",
       "      <td>0</td>\n",
       "    </tr>\n",
       "  </tbody>\n",
       "</table>\n",
       "</div>"
      ],
      "text/plain": [
       "   a  b  c\n",
       "0  1  0  0\n",
       "1  0  1  0\n",
       "2  0  0  1\n",
       "3  1  0  0"
      ]
     },
     "execution_count": 15,
     "metadata": {},
     "output_type": "execute_result"
    }
   ],
   "source": [
    "import pandas as pd\n",
    "s = pd.Series(list('abca'))\n",
    "pd.get_dummies(s)"
   ]
  }
 ],
 "metadata": {
  "kernelspec": {
   "display_name": "Python 3",
   "language": "python",
   "name": "python3"
  },
  "language_info": {
   "codemirror_mode": {
    "name": "ipython",
    "version": 3
   },
   "file_extension": ".py",
   "mimetype": "text/x-python",
   "name": "python",
   "nbconvert_exporter": "python",
   "pygments_lexer": "ipython3",
   "version": "3.8.8"
  }
 },
 "nbformat": 4,
 "nbformat_minor": 5
}
