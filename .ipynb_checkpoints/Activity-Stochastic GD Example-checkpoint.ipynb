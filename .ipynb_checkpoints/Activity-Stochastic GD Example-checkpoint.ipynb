{
 "cells": [
  {
   "cell_type": "code",
   "execution_count": 2,
   "metadata": {},
   "outputs": [
    {
     "name": "stdout",
     "output_type": "stream",
     "text": [
      "Data Frame: \n",
      "   x1  x2   y\n",
      "0   4   1   2\n",
      "1   2   8 -14\n",
      "2   1   0   1\n",
      "3   3   2  -1\n",
      "4   1   4  -7\n",
      "5   6   7  -8\n",
      "\n",
      " Loss: \n",
      "0       4.000000\n",
      "1     215.502400\n",
      "2       2.825089\n",
      "3      25.183696\n",
      "4       2.703944\n",
      "5      39.437509\n",
      "6       0.079794\n",
      "7      45.485374\n",
      "8       0.414151\n",
      "9       4.161373\n",
      "10      0.658158\n",
      "11      6.762233\n",
      "12      0.000164\n",
      "13      6.585837\n",
      "14      0.045520\n",
      "15      0.525677\n",
      "16      0.099272\n",
      "17      0.899490\n",
      "18      0.001459\n",
      "19      0.787665\n",
      "20      0.003423\n",
      "21      0.055453\n",
      "22      0.011455\n",
      "23      0.107461\n",
      "Name: loss, dtype: float64\n"
     ]
    },
    {
     "data": {
      "image/png": "[encoded data removed]",
      "text/plain": [
       "<Figure size 432x288 with 1 Axes>"
      ]
     },
     "metadata": {
      "needs_background": "light"
     },
     "output_type": "display_data"
    }
   ],
   "source": [
    "# Activity-Stochastic Gradient Descent \n",
    "# Create the log table containing these columns and fill out the table for 1 epoch for the dataset provided in the example below:\n",
    "# https://towardsdatascience.com/step-by-step-tutorial-on-linear-regression-with-stochastic-gradient-descent-1d35b088a843\n",
    "\n",
    "import pandas as pd\n",
    "# creating a dataframe for the dataset\n",
    "d = {'x1': [4, 2, 1,3,1,6], 'x2': [1, 8,0, 2,4,7], 'y': [2, -14, 1, -1, -7, -8]}\n",
    "df = pd.DataFrame(data=d)\n",
    "print (\"Data Frame: \")\n",
    "print(df)\n",
    "\n",
    "# batch size =1, so we have 6 batches altogether. \n",
    "# We complete 1 epoch when the model has iterated through all the batches once.\n",
    " \n",
    "# we are reporting : x1, x2, y, y_hat, (y- y_hat), w1, w2, b  ... assuming y_hat = w1x1 + w2x2 + b\n",
    "# goal: find the best w (weight) and b (bias) values using Stochastic GD. \n",
    "\n",
    "# Initializing the weights \n",
    "w_1 = 0.0\n",
    "w_2 = 0.0\n",
    "b=0 \n",
    "a = 0.01  # learning rate\n",
    "data= []\n",
    "\n",
    "for epoch in range(0,4):\n",
    "    # Batch size = 1 , so we have 6 batches in 1 epoch: \n",
    "    for i in range(0, 6):  # the size of dataset is 6 (6 samples)\n",
    "        x_1 = df.loc[i][0]\n",
    "        x_2 = df.loc[i][1]\n",
    "        y = df.loc[i][2]\n",
    "        y_hat = (w_1*x_1) + (w_2*x_2) + b\n",
    "        loss = pow((y - y_hat) , 2)\n",
    "    \n",
    "        data.append([x_1, x_2, y, y_hat, loss, (y - y_hat) ,w_1,w_2,b])\n",
    "    \n",
    "        # updated parameters\n",
    "        w_1 = w_1 + a*(2* (y - y_hat) *x_1)\n",
    "        w_2 = w_2 + a*(2*(y - y_hat)*x_2)\n",
    "        b = b + a*(2* (y - y_hat)*1)\n",
    "        # end of the ith batch\n",
    "    \n",
    "output = pd.DataFrame(data, columns=['x1', 'x2', 'y', 'y_hat', 'loss' , 'y - y_hat' , 'w1', 'w2' , 'b'])\n",
    "\n",
    "print(\"\\n Loss: \")\n",
    "print (output['loss'])\n",
    "import matplotlib.pyplot as plt\n",
    "plt.plot(output['loss'],'r-',label='loss for epochs '+ str(epoch) ) \n",
    "plt.legend()\n",
    "plt.show()"
   ]
  },
  {
   "cell_type": "markdown",
   "metadata": {},
   "source": [
    "\n",
    "|| x1 | x2 | y | y_hat | loss | y-y_hat | w1 | w2 | b |\n",
    "|---| --- | --- | --- | --- | --- | --- | --- | --- | --- |\n",
    "|0| 4 | 1 | 2 | 0 | 4 | 2 | 0 | 0 | 0 |\n",
    "|1| 2 | 8 | -14 | 0.68 | 215.5 | -14.68 | 0.16 | 0.04 | 0.04 |\n",
    "|2| 1 | 0 | 1 | -0.68 | 2.83 | 1.68 | -0.43 | -2.31 | -0.25\n",
    "|3| 3 | 2 | -1 | -6.02 | 25.18 | 5.02 | -0.39 | -2.31 | -0.22 |\n",
    "|4| 1 | 4 | -7 | -8.64 | 2.7 | 1.64 | -0.09 | -2.11 | -0.12 |\n",
    "|5| 6 | 7 | -8 | -14.28 | 39.44 | 6.28 | -0.06 | -1.98 | -0.09 |\n",
    "\n",
    "Table for part 1"
   ]
  },
  {
   "cell_type": "code",
   "execution_count": 33,
   "metadata": {},
   "outputs": [
    {
     "name": "stdout",
     "output_type": "stream",
     "text": [
      "Data Frame: \n",
      "   x1  x2   y\n",
      "0   4   1   2\n",
      "1   2   8 -14\n",
      "2   1   0   1\n",
      "3   3   2  -1\n",
      "4   1   4  -7\n",
      "5   6   7  -8\n",
      "6   5   4  -2\n",
      "7   9   6   5\n",
      "8   2   1  -3\n",
      "\n",
      " Loss: \n",
      "0      296.482802\n",
      "1       38.000000\n",
      "2       25.483067\n",
      "3       54.078102\n",
      "4       56.064821\n",
      "          ...    \n",
      "115     38.339579\n",
      "116     34.995935\n",
      "117     53.604360\n",
      "118     38.134606\n",
      "119     35.143758\n",
      "Name: loss, Length: 120, dtype: float64\n"
     ]
    },
    {
     "data": {
      "image/png": "[encoded data removed]",
      "text/plain": [
       "<Figure size 432x288 with 1 Axes>"
      ]
     },
     "metadata": {
      "needs_background": "light"
     },
     "output_type": "display_data"
    }
   ],
   "source": [
    "# Batch Gradient Descent\n",
    "import statistics\n",
    "# Added some extra data\n",
    "d = {'x1': [4, 2, 1,3,1,6, 5,9,2], 'x2': [1, 8,0, 2,4,7,4,6,1], 'y': [2, -14, 1, -1, -7, -8,-2,5,-3]}\n",
    "df = pd.DataFrame(data=d)\n",
    "print (\"Data Frame: \")\n",
    "print(df)\n",
    "\n",
    "# Initializing the weights \n",
    "w_1 = 0.0\n",
    "w_2 = 0.0\n",
    "b=0 \n",
    "a = 0.01  # learning rate\n",
    "data= []\n",
    "batch_size = 3\n",
    "w1_list = []\n",
    "w2_list = []\n",
    "b_list = []\n",
    "\n",
    "for epoch in range(0,40):\n",
    "    # Batch size = 3 , so we have 3 batches in 1 epoch: \n",
    "    for i in range(0, 3):  # the size of dataset is 9 (9 samples)\n",
    "        y_hats = []\n",
    "        losses = []\n",
    "        for j in range(i * batch_size, (i+1) * batch_size):\n",
    "            x_1 = df.loc[j][0]  \n",
    "            x_2 = df.loc[j][1]\n",
    "            y = df.loc[j][2]\n",
    "            y_hats.append((w_1*x_1) + (w_2*x_2) + b)\n",
    "            losses.append(pow((y - y_hat) , 2))\n",
    "        # Calculating values based off the average from a batch\n",
    "        y_hat = statistics.mean(y_hats)\n",
    "        loss = statistics.mean(losses)\n",
    "        data.append([x_1, x_2, y, y_hat, loss, (y - y_hat) ,w_1,w_2,b])\n",
    "        for j in range(i * batch_size, (i+1) * batch_size):\n",
    "            x_1 = df.loc[j][0]  \n",
    "            x_2 = df.loc[j][1]\n",
    "            y = df.loc[j][2]\n",
    "            w_1 = w_1 + a*(2* (y - y_hat) *x_1)\n",
    "            w_2 = w_2 + a*(2*(y - y_hat)*x_2)\n",
    "        w_1 = w_1 / batch_size\n",
    "        w_2 = w_2 / batch_size\n",
    "        b = b + a*(2* (y - y_hat)*1)\n",
    "        # end of the ith batch\n",
    "\n",
    "# Couldn't quite get it to converge\n",
    "output = pd.DataFrame(data, columns=['x1', 'x2', 'y', 'y_hat', 'loss' , 'y - y_hat' , 'w1', 'w2' , 'b'])\n",
    "\n",
    "print(\"\\n Loss: \")\n",
    "print (output['loss'])\n",
    "import matplotlib.pyplot as plt\n",
    "plt.plot(output['loss'],'r-',label='loss for epochs '+ str(epoch) ) \n",
    "plt.legend()\n",
    "plt.show()"
   ]
  },
  {
   "cell_type": "code",
   "execution_count": null,
   "metadata": {},
   "outputs": [],
   "source": []
  }
 ],
 "metadata": {
  "kernelspec": {
   "display_name": "Python 3",
   "language": "python",
   "name": "python3"
  },
  "language_info": {
   "codemirror_mode": {
    "name": "ipython",
    "version": 3
   },
   "file_extension": ".py",
   "mimetype": "text/x-python",
   "name": "python",
   "nbconvert_exporter": "python",
   "pygments_lexer": "ipython3",
   "version": "3.8.5"
  }
 },
 "nbformat": 4,
 "nbformat_minor": 4
}
