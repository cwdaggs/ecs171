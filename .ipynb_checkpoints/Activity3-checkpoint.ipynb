{
 "cells": [
  {
   "cell_type": "markdown",
   "metadata": {},
   "source": [
    "Create the contingency table for attributes “humidity” and “windy” and calculate Information Gain for each attribute wrt. “Played”."
   ]
  },
  {
   "cell_type": "markdown",
   "metadata": {},
   "source": [
    "| Feature | Values | Yes | No | Total |\n",
    "| --- | --- | --- | --- | --- |\n",
    "| Humidity | <= 75 (normal) | 6 | 2 | 8 |\n",
    "| | > 75 (high) | 4 | 2 | 6 |"
   ]
  },
  {
   "cell_type": "markdown",
   "metadata": {},
   "source": [
    "E(Played, Humidity) = P(normal) * E(6/8, 2/8) + P(high) * E(4/6, 2/6) = (8/14) * E(6/8, 2/8) + (6/14) * E(4/6, 2/6)"
   ]
  },
  {
   "cell_type": "code",
   "execution_count": 3,
   "metadata": {},
   "outputs": [
    {
     "name": "stdout",
     "output_type": "stream",
     "text": [
      "0.0059777114237739015\n"
     ]
    }
   ],
   "source": [
    "import math\n",
    "E_played = (-4/14)*math.log((4/14),2)-(10/14)*math.log((10/14),2)\n",
    "p_norm = 8/14\n",
    "p_high = 6/14\n",
    "E_norm = (-6/8)*math.log((6/8),2)-(2/8)*math.log((2/8),2)\n",
    "E_high = (-4/6)*math.log((4/6),2)-(2/6)*math.log((2/6),2)\n",
    "E_played_humidity = p_norm*E_norm + p_high*E_high\n",
    "ig_humidity = E_played - E_played_humidity\n",
    "print(\"IG(humidity) =\", ig_humidity)"
   ]
  },
  {
   "cell_type": "markdown",
   "metadata": {},
   "source": [
    "| Feature | Values | Yes | No | Total |\n",
    "| --- | --- | --- | --- | --- |\n",
    "| Windy | Yes | 3 | 3 | 6 |\n",
    "| | No | 7 | 1 | 8 |"
   ]
  },
  {
   "cell_type": "markdown",
   "metadata": {},
   "source": [
    "E(Played, Windy) = P(yes) * E(3/6, 3/6) + P(no) * E(7/8, 1/8) = (6/14) * E(3/6, 3/6) + (8/14) * E(7/8, 1/8)"
   ]
  },
  {
   "cell_type": "code",
   "execution_count": 7,
   "metadata": {},
   "outputs": [
    {
     "name": "stdout",
     "output_type": "stream",
     "text": [
      "IG(windy) = 0.12394088673829029\n"
     ]
    }
   ],
   "source": [
    "p_yes = 6/14\n",
    "p_no = 8/14\n",
    "E_yes = (-3/6)*math.log((3/6),2)-(3/6)*math.log((3/6),2)\n",
    "E_no = (-7/8)*math.log((7/8),2)-(1/8)*math.log((1/8),2)\n",
    "E_played_windy = p_yes*E_yes + p_no*E_no\n",
    "ig_windy = E_played - E_played_windy\n",
    "print(\"IG(windy) =\", ig_windy)"
   ]
  },
  {
   "cell_type": "code",
   "execution_count": null,
   "metadata": {},
   "outputs": [],
   "source": []
  }
 ],
 "metadata": {
  "kernelspec": {
   "display_name": "Python 3",
   "language": "python",
   "name": "python3"
  },
  "language_info": {
   "codemirror_mode": {
    "name": "ipython",
    "version": 3
   },
   "file_extension": ".py",
   "mimetype": "text/x-python",
   "name": "python",
   "nbconvert_exporter": "python",
   "pygments_lexer": "ipython3",
   "version": "3.8.5"
  }
 },
 "nbformat": 4,
 "nbformat_minor": 4
}
