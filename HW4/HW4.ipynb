{
 "cells": [
  {
   "cell_type": "markdown",
   "metadata": {},
   "source": [
    "# Homework 4"
   ]
  },
  {
   "cell_type": "markdown",
   "metadata": {},
   "source": [
    "In this assignment, we are working on a list of 1200 bitstrings, where each of them contains 16 bits. <br >\n",
    "We will apply Agglomerative Clustering, K-means Clustering, and PCA to this dataset. <br >\n",
    "\n",
    "## Background and Data Information\n",
    "For a bitstring $S$ in this dataset, we describe $S = \\{s_{15}, s_{14}, s_{13}, s_{12}, \\ldots, s_{0} \\}$, where $s_{15}$ is often known as the most significant bit (MSB) and $s_0$ as the least significant bit (LSB). <br >\n",
    "\n",
    "There are duplicated bitstrings in this dataset, but they will not affect this assignment. Don't worry about them. <br >\n",
    "\n",
    "## Equivalence Relation\n",
    "\n",
    "**This is an important concept to Exercise 1.**\n",
    "\n",
    "Let's say if we have two bitstrings, $A = \\{a_{15}, a_{14}, a_{13}, \\ldots, a_{0} \\}$ and $B = \\{b_{15}, b_{14}, b_{13}, \\ldots, b_{0} \\}$. <br >\n",
    "\n",
    "We can flip one bit $a_i$ in $A$ to get another bitstring $A'$, such that the difference of $A$ and $A'$ is only one bit. We define the above transformation to be $A \\to A'$. <br >\n",
    "\n",
    "\n",
    "We call two bitstrings $A$ and $B$ to be **equivalent** ($A \\sim B$) if there exists a sequence $A \\to C_1 \\to C_2 \\to \\cdots \\to C_n \\to B$, where $\\forall i, C_i$ belongs to the dataset. \n",
    "\n",
    "It can be seen that equivalence is both __commutative__ ($A \\sim B \\iff B \\sim A$) as well as __transitive__ ($A \\sim B, B \\sim C \\implies A \\sim C$). <br >\n",
    "\n",
    "We can say that the elements in the above sequence $\\{ A, C_1, \\ldots, C_n, B\\}$ form an equivalence class. Given a new bitstring $X$, we can see that if $X \\sim C_i$, $1 \\le i \\le n$, then $X$ will be added to the above equivalence class, and by the transitive property of equivalence relations, $X \\sim A$, and $X \\sim B$.\n",
    "\n",
    "### Example\n",
    "\n",
    "Let's say we have 4 bitstrings, each of them is 4 bits long. They are $0000, 0010, 0110, 1100$, respectively.<br >\n",
    "\n",
    "We can say $0000 \\sim 0110$ because $0000 \\to 0010 \\to 0110$. <br >\n",
    "\n",
    "However, $0000 \\nsim 1100$. There may be sequences like $0000 \\to 1000 \\to 1100$ or $0000 \\to 0100 \\to 1100$, but neither $1000$ nor $0100$ is in our dataset. <br >\n",
    "\n",
    "Ultimately, $\\{0000, 0010, 0110\\}$ form an equivalence class, whereas $\\{1100\\}$ is the other. As a result, there are two classes."
   ]
  },
  {
   "cell_type": "markdown",
   "metadata": {},
   "source": [
    "### Libraries that can be used: numpy, scipy, pandas, scikit-learn, matplotlib, seaborn\n",
    "Any libraries used in the discussion materials are also allowed."
   ]
  },
  {
   "cell_type": "markdown",
   "metadata": {},
   "source": [
    "# Exercises\n",
    "## Exercise 1 - Agglomerative Clustering (40 points in total)"
   ]
  },
  {
   "cell_type": "markdown",
   "metadata": {},
   "source": [
    "Using agglomerative clustering with a distance threshold for early stopping, we can calculate the number of equivalence classes by counting the number of clusters. In order to perform agglomerative clustering, we have to consider what parameters may be used: <br >\n",
    "\n",
    "### Exercise 1.1 - Choosing Parameters (20 points)\n",
    "\n",
    " - Explain why you would pick these parameters. \n",
    "     - Which linkage rule should be used? (single-linkage, complete-linkage, or average-linkage)\n",
    "     - Which distance function should be used? (Euclidean distance, Manhattan distance, or cosine distance)\n",
    "     - What should the threshold distance be? \n",
    " \n",
    "Hints:\n",
    " - How the distance threshold works: Whenever two clusters are picked to consider merging them, the distance between those clusters is compared to the distance threshold. If the distance is smaller than the threshold, the clusters merge and the algorithm continues; Otherwise, they will not be merged.\n",
    " - How to choose a linkage rule: Think about how you would figure out which equivalence class the string $0001$ belongs to in the previously given example."
   ]
  },
  {
   "cell_type": "code",
   "execution_count": null,
   "metadata": {},
   "outputs": [],
   "source": []
  },
  {
   "cell_type": "markdown",
   "metadata": {},
   "source": [
    "### Exercise 1.2 - Agglomerative Clustering for Equivalence Classes (20 points)\n",
    "\n",
    " - Perform the agglomerative clustering with the parameters you picked in the above three questions.\n",
    " - Show the frequency(number of members) of each cluster. You are encouraged to create a bar chart to show the distribution as it will help you in Exercise 2, but printing only the numbers is also fine.\n",
    "\n",
    "Hints: \n",
    " - The value of ```distance_threshold``` in the arguments should be **slightly** higher than what you picked. This is because we only merge two clusters when their distance is **strictly smaller** than the threshold."
   ]
  },
  {
   "cell_type": "code",
   "execution_count": 16,
   "metadata": {},
   "outputs": [
    {
     "name": "stdout",
     "output_type": "stream",
     "text": [
      "[352 194 177 ...  40 284 250]\n",
      "[[  0   1   2 ... 781 782 783]\n",
      " [  4   8   2 ...   1   1   1]]\n"
     ]
    },
    {
     "data": {
      "image/png": "[encoded data removed]",
      "text/plain": [
       "<Figure size 432x288 with 1 Axes>"
      ]
     },
     "metadata": {
      "needs_background": "light"
     },
     "output_type": "display_data"
    }
   ],
   "source": [
    "import numpy as np\n",
    "import matplotlib.pyplot as plt\n",
    "import pandas as pd\n",
    "from sklearn.cluster import AgglomerativeClustering\n",
    "df = pd.read_csv('./bitstrings.csv')\n",
    "hc = AgglomerativeClustering(affinity = 'manhattan', linkage = 'complete', distance_threshold = 1, n_clusters=None)\n",
    "y_hc = hc.fit_predict(np.asarray(df))\n",
    "print(y_hc)\n",
    "unique, counts = np.unique(y_hc, return_counts=True)\n",
    "bars = np.asarray((unique, counts))\n",
    "print(bars)\n",
    "fig = plt.figure()\n",
    "ax = fig.add_axes([0,0,1,1])\n",
    "ax.bar(bars[0], bars[1])\n",
    "plt.show()"
   ]
  },
  {
   "cell_type": "markdown",
   "metadata": {},
   "source": [
    "## Exercise 2 - K-Means Clustering (30 points in total)"
   ]
  },
  {
   "cell_type": "markdown",
   "metadata": {},
   "source": [
    "Let's see how k-means behave differently from agglomerative clustering.\n",
    "\n",
    "### Exercise 2.1 - K-Means Clustering for Equivalence Classes (20 points)\n",
    " - Re-cluster the dataset with k-means, but with the number of clusters you obtained from Exercise 1.\n",
    " - Show the frequency(number of members) of each cluster. Again, you are encouraged to create a bar chart, but printing the numbers is also fine."
   ]
  },
  {
   "cell_type": "code",
   "execution_count": null,
   "metadata": {},
   "outputs": [],
   "source": []
  },
  {
   "cell_type": "markdown",
   "metadata": {},
   "source": [
    "### Exercise 2.2 - Difference between Agglomerative Clustering and K-Means Clustering (10 points)\n",
    "\n",
    "Compare the result from Exercise 2.1 with that from Exercise 1.2, and explain\n",
    " - How the two results are different\n",
    " - Why there is such a difference"
   ]
  },
  {
   "cell_type": "code",
   "execution_count": null,
   "metadata": {},
   "outputs": [],
   "source": []
  },
  {
   "cell_type": "markdown",
   "metadata": {},
   "source": [
    "## Exercise 3 - Principal Component Analysis (30 points in total)\n",
    "\n",
    "We can visualize how the bitstrings are distributed using principal component analysis.\n",
    "\n",
    "### Exercise 3.1 - Generate 2 Clusters (10 points)\n",
    "\n",
    " - Re-do the k-means clustering on our dataset again, but this time we only consider ```k=2```.\n",
    " - Show the frequency(number of members) of each cluster."
   ]
  },
  {
   "cell_type": "code",
   "execution_count": null,
   "metadata": {},
   "outputs": [],
   "source": []
  },
  {
   "cell_type": "markdown",
   "metadata": {},
   "source": [
    "### Exercise 3.2 - PCA for Feature Extraction (20 points)\n",
    "\n",
    " - Retrieve the projected dataset with PCA, using ```n_components=2```.\n",
    " - Generate a scatter plot to visualize the projected points, where they should be colored differently based on the assigned cluster in Exercise 3.1.\n",
    " - In the first principal component, **print out** the weights of all features.\n",
    " - Report which feature has the **highest positive** weight in the first principal component."
   ]
  },
  {
   "cell_type": "code",
   "execution_count": null,
   "metadata": {},
   "outputs": [],
   "source": []
  }
 ],
 "metadata": {
  "kernelspec": {
   "display_name": "Python 3",
   "language": "python",
   "name": "python3"
  },
  "language_info": {
   "codemirror_mode": {
    "name": "ipython",
    "version": 3
   },
   "file_extension": ".py",
   "mimetype": "text/x-python",
   "name": "python",
   "nbconvert_exporter": "python",
   "pygments_lexer": "ipython3",
   "version": "3.8.5"
  }
 },
 "nbformat": 4,
 "nbformat_minor": 4
}
